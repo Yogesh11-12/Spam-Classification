{
  "nbformat": 4,
  "nbformat_minor": 0,
  "metadata": {
    "colab": {
      "name": "Spam Classification.ipynb",
      "provenance": [],
      "authorship_tag": "ABX9TyNtlYTINuYoUYmLX7PfMMi/",
      "include_colab_link": true
    },
    "kernelspec": {
      "name": "python3",
      "display_name": "Python 3"
    }
  },
  "cells": [
    {
      "cell_type": "markdown",
      "metadata": {
        "id": "view-in-github",
        "colab_type": "text"
      },
      "source": [
        "<a href=\"https://colab.research.google.com/github/Yogesh11-12/Spam-Classification/blob/main/Spam_Classification.ipynb\" target=\"_parent\"><img src=\"https://colab.research.google.com/assets/colab-badge.svg\" alt=\"Open In Colab\"/></a>"
      ]
    },
    {
      "cell_type": "code",
      "metadata": {
        "id": "31gnKsnuD1Wf"
      },
      "source": [
        ""
      ],
      "execution_count": null,
      "outputs": []
    },
    {
      "cell_type": "code",
      "metadata": {
        "id": "GD1pIHpqEDxQ"
      },
      "source": [
        "# Import PyDrive and associated libraries.\n",
        "# This only needs to be done once per notebook.\n",
        "from pydrive.auth import GoogleAuth\n",
        "from pydrive.drive import GoogleDrive\n",
        "from google.colab import auth\n",
        "from oauth2client.client import GoogleCredentials\n",
        "\n",
        "# Authenticate and create the PyDrive client.\n",
        "# This only needs to be done once per notebook.\n",
        "auth.authenticate_user()\n",
        "gauth = GoogleAuth()\n",
        "gauth.credentials = GoogleCredentials.get_application_default()\n",
        "drive = GoogleDrive(gauth)\n",
        "\n",
        "# List .txt files in the root.\n",
        "#\n",
        "# Search query reference:\n",
        "# https://developers.google.com/drive/v2/web/search-parameters\n",
        "listed = drive.ListFile({'q': \"title contains '.txt' and 'root' in parents\"}).GetList()\n",
        "for file in listed:\n",
        "  print('title {}, id {}'.format(file['title'], file['id']))"
      ],
      "execution_count": 1,
      "outputs": []
    },
    {
      "cell_type": "code",
      "metadata": {
        "colab": {
          "base_uri": "https://localhost:8080/"
        },
        "id": "ldBzi-IzEQxv",
        "outputId": "7498e938-ef89-4549-853c-aa57b80e3734"
      },
      "source": [
        "from google.colab import drive\n",
        "drive.mount('/content/drive')\n"
      ],
      "execution_count": 2,
      "outputs": [
        {
          "output_type": "stream",
          "text": [
            "Mounted at /content/drive\n"
          ],
          "name": "stdout"
        }
      ]
    },
    {
      "cell_type": "code",
      "metadata": {
        "id": "lKdNN_JYEXPS"
      },
      "source": [
        "import pandas as pd\r\n",
        "import numpy as np\r\n",
        "import seaborn as sns\r\n",
        "import matplotlib.pyplot as plt"
      ],
      "execution_count": 3,
      "outputs": []
    },
    {
      "cell_type": "code",
      "metadata": {
        "colab": {
          "base_uri": "https://localhost:8080/",
          "height": 195
        },
        "id": "uGNHocR8Exls",
        "outputId": "937ca3e2-fc66-48a3-eade-0707a2f4c3e9"
      },
      "source": [
        "df=pd.read_csv('/content/spam.csv',delimiter=',',encoding='latin1')\r\n",
        "df.head()"
      ],
      "execution_count": 5,
      "outputs": [
        {
          "output_type": "execute_result",
          "data": {
            "text/html": [
              "<div>\n",
              "<style scoped>\n",
              "    .dataframe tbody tr th:only-of-type {\n",
              "        vertical-align: middle;\n",
              "    }\n",
              "\n",
              "    .dataframe tbody tr th {\n",
              "        vertical-align: top;\n",
              "    }\n",
              "\n",
              "    .dataframe thead th {\n",
              "        text-align: right;\n",
              "    }\n",
              "</style>\n",
              "<table border=\"1\" class=\"dataframe\">\n",
              "  <thead>\n",
              "    <tr style=\"text-align: right;\">\n",
              "      <th></th>\n",
              "      <th>v1</th>\n",
              "      <th>v2</th>\n",
              "      <th>Unnamed: 2</th>\n",
              "      <th>Unnamed: 3</th>\n",
              "      <th>Unnamed: 4</th>\n",
              "    </tr>\n",
              "  </thead>\n",
              "  <tbody>\n",
              "    <tr>\n",
              "      <th>0</th>\n",
              "      <td>ham</td>\n",
              "      <td>Go until jurong point, crazy.. Available only ...</td>\n",
              "      <td>NaN</td>\n",
              "      <td>NaN</td>\n",
              "      <td>NaN</td>\n",
              "    </tr>\n",
              "    <tr>\n",
              "      <th>1</th>\n",
              "      <td>ham</td>\n",
              "      <td>Ok lar... Joking wif u oni...</td>\n",
              "      <td>NaN</td>\n",
              "      <td>NaN</td>\n",
              "      <td>NaN</td>\n",
              "    </tr>\n",
              "    <tr>\n",
              "      <th>2</th>\n",
              "      <td>spam</td>\n",
              "      <td>Free entry in 2 a wkly comp to win FA Cup fina...</td>\n",
              "      <td>NaN</td>\n",
              "      <td>NaN</td>\n",
              "      <td>NaN</td>\n",
              "    </tr>\n",
              "    <tr>\n",
              "      <th>3</th>\n",
              "      <td>ham</td>\n",
              "      <td>U dun say so early hor... U c already then say...</td>\n",
              "      <td>NaN</td>\n",
              "      <td>NaN</td>\n",
              "      <td>NaN</td>\n",
              "    </tr>\n",
              "    <tr>\n",
              "      <th>4</th>\n",
              "      <td>ham</td>\n",
              "      <td>Nah I don't think he goes to usf, he lives aro...</td>\n",
              "      <td>NaN</td>\n",
              "      <td>NaN</td>\n",
              "      <td>NaN</td>\n",
              "    </tr>\n",
              "  </tbody>\n",
              "</table>\n",
              "</div>"
            ],
            "text/plain": [
              "     v1  ... Unnamed: 4\n",
              "0   ham  ...        NaN\n",
              "1   ham  ...        NaN\n",
              "2  spam  ...        NaN\n",
              "3   ham  ...        NaN\n",
              "4   ham  ...        NaN\n",
              "\n",
              "[5 rows x 5 columns]"
            ]
          },
          "metadata": {
            "tags": []
          },
          "execution_count": 5
        }
      ]
    },
    {
      "cell_type": "code",
      "metadata": {
        "id": "U_JHaOntFH_8"
      },
      "source": [
        "df.drop(columns=['Unnamed: 2','Unnamed: 3','Unnamed: 4'],axis=1,inplace=True)"
      ],
      "execution_count": 7,
      "outputs": []
    },
    {
      "cell_type": "code",
      "metadata": {
        "colab": {
          "base_uri": "https://localhost:8080/",
          "height": 195
        },
        "id": "HM9ccwCLFnlx",
        "outputId": "7057f44c-1d5e-4c19-e7fe-4d8aa7c2741e"
      },
      "source": [
        "df.head()"
      ],
      "execution_count": 8,
      "outputs": [
        {
          "output_type": "execute_result",
          "data": {
            "text/html": [
              "<div>\n",
              "<style scoped>\n",
              "    .dataframe tbody tr th:only-of-type {\n",
              "        vertical-align: middle;\n",
              "    }\n",
              "\n",
              "    .dataframe tbody tr th {\n",
              "        vertical-align: top;\n",
              "    }\n",
              "\n",
              "    .dataframe thead th {\n",
              "        text-align: right;\n",
              "    }\n",
              "</style>\n",
              "<table border=\"1\" class=\"dataframe\">\n",
              "  <thead>\n",
              "    <tr style=\"text-align: right;\">\n",
              "      <th></th>\n",
              "      <th>v1</th>\n",
              "      <th>v2</th>\n",
              "    </tr>\n",
              "  </thead>\n",
              "  <tbody>\n",
              "    <tr>\n",
              "      <th>0</th>\n",
              "      <td>ham</td>\n",
              "      <td>Go until jurong point, crazy.. Available only ...</td>\n",
              "    </tr>\n",
              "    <tr>\n",
              "      <th>1</th>\n",
              "      <td>ham</td>\n",
              "      <td>Ok lar... Joking wif u oni...</td>\n",
              "    </tr>\n",
              "    <tr>\n",
              "      <th>2</th>\n",
              "      <td>spam</td>\n",
              "      <td>Free entry in 2 a wkly comp to win FA Cup fina...</td>\n",
              "    </tr>\n",
              "    <tr>\n",
              "      <th>3</th>\n",
              "      <td>ham</td>\n",
              "      <td>U dun say so early hor... U c already then say...</td>\n",
              "    </tr>\n",
              "    <tr>\n",
              "      <th>4</th>\n",
              "      <td>ham</td>\n",
              "      <td>Nah I don't think he goes to usf, he lives aro...</td>\n",
              "    </tr>\n",
              "  </tbody>\n",
              "</table>\n",
              "</div>"
            ],
            "text/plain": [
              "     v1                                                 v2\n",
              "0   ham  Go until jurong point, crazy.. Available only ...\n",
              "1   ham                      Ok lar... Joking wif u oni...\n",
              "2  spam  Free entry in 2 a wkly comp to win FA Cup fina...\n",
              "3   ham  U dun say so early hor... U c already then say...\n",
              "4   ham  Nah I don't think he goes to usf, he lives aro..."
            ]
          },
          "metadata": {
            "tags": []
          },
          "execution_count": 8
        }
      ]
    },
    {
      "cell_type": "code",
      "metadata": {
        "colab": {
          "base_uri": "https://localhost:8080/",
          "height": 384
        },
        "id": "oluZtguPF2ch",
        "outputId": "85170f34-7e67-45bf-9cc9-aefba2613abe"
      },
      "source": [
        "sns.countplot(df.v1)\r\n",
        "plt.xlabel('Label')\r\n",
        "df.v1.value_counts()"
      ],
      "execution_count": 10,
      "outputs": [
        {
          "output_type": "stream",
          "text": [
            "/usr/local/lib/python3.6/dist-packages/seaborn/_decorators.py:43: FutureWarning: Pass the following variable as a keyword arg: x. From version 0.12, the only valid positional argument will be `data`, and passing other arguments without an explicit keyword will result in an error or misinterpretation.\n",
            "  FutureWarning\n"
          ],
          "name": "stderr"
        },
        {
          "output_type": "execute_result",
          "data": {
            "text/plain": [
              "ham     4825\n",
              "spam     747\n",
              "Name: v1, dtype: int64"
            ]
          },
          "metadata": {
            "tags": []
          },
          "execution_count": 10
        },
        {
          "output_type": "display_data",
          "data": {
            "image/png": "[encoded data removed]",
            "text/plain": [
              "<Figure size 432x288 with 1 Axes>"
            ]
          },
          "metadata": {
            "tags": [],
            "needs_background": "light"
          }
        }
      ]
    },
    {
      "cell_type": "code",
      "metadata": {
        "colab": {
          "base_uri": "https://localhost:8080/"
        },
        "id": "QqOYtSFAGDqC",
        "outputId": "4375c047-2867-4627-a97d-005d96d01759"
      },
      "source": [
        "from sklearn.preprocessing import LabelEncoder\r\n",
        "le=LabelEncoder()\r\n",
        "x=df.v2\r\n",
        "y=df.v1\r\n",
        "Y=le.fit_transform(y)\r\n",
        "Y=Y.reshape(-1,1)\r\n",
        "Y"
      ],
      "execution_count": 18,
      "outputs": [
        {
          "output_type": "execute_result",
          "data": {
            "text/plain": [
              "array([[0],\n",
              "       [0],\n",
              "       [1],\n",
              "       ...,\n",
              "       [0],\n",
              "       [0],\n",
              "       [0]])"
            ]
          },
          "metadata": {
            "tags": []
          },
          "execution_count": 18
        }
      ]
    },
    {
      "cell_type": "code",
      "metadata": {
        "id": "7iIag-WwGbPf"
      },
      "source": [
        "from sklearn.model_selection import train_test_split\r\n",
        "train_x,test_x,train_y,test_y=train_test_split(x,Y,test_size=0.2)"
      ],
      "execution_count": 19,
      "outputs": []
    },
    {
      "cell_type": "code",
      "metadata": {
        "id": "MmOVaOxsG8Xs"
      },
      "source": [
        "from keras.preprocessing.text import Tokenizer\r\n",
        "from keras.preprocessing import sequence\r\n",
        "max_words=1000\r\n",
        "max_len=150\r\n",
        "tok=Tokenizer(num_words=max_words)\r\n",
        "tok.fit_on_texts(train_x)\r\n",
        "sequences=tok.texts_to_sequences(train_x)\r\n",
        "sequence_matrix=sequence.pad_sequences(sequences,maxlen=max_len)"
      ],
      "execution_count": 26,
      "outputs": []
    },
    {
      "cell_type": "code",
      "metadata": {
        "id": "gv2UQ8GMJLHs"
      },
      "source": [
        "from keras.layers import Dense,Embedding,Input,Activation,LSTM,Dropout\r\n",
        "from keras import Model\r\n"
      ],
      "execution_count": 27,
      "outputs": []
    },
    {
      "cell_type": "code",
      "metadata": {
        "id": "2RDWmhn3LB7q"
      },
      "source": [
        "def RNN():\r\n",
        "  input=Input(name='inputs',shape=[max_len])\r\n",
        "  layer1=Embedding(max_words,50,input_length=max_len)(input)\r\n",
        "  layer2=LSTM(64)(layer1)\r\n",
        "  layer3=Dense(256,name='fc1')(layer2)\r\n",
        "  layer4=Activation('relu')(layer3)\r\n",
        "  layer5=Dropout(0.4)(layer4)\r\n",
        "  layer6=Dense(1,name='Outputlayer')(layer5)\r\n",
        "  layer7=Activation('sigmoid')(layer6)\r\n",
        "  model=Model(inputs=input,Outputs=layer7)\r\n",
        "  return model"
      ],
      "execution_count": 44,
      "outputs": []
    },
    {
      "cell_type": "code",
      "metadata": {
        "id": "o85sQm3zN2xC"
      },
      "source": [
        "from keras import Sequential\r\n",
        "my_model=Sequential()\r\n",
        "my_model.add(Input(shape=[max_len]))\r\n",
        "my_model.add(Embedding(max_words,50,input_length=max_len))\r\n",
        "my_model.add(LSTM(64))\r\n",
        "my_model.add(Dense(256,activation='relu'))\r\n",
        "my_model.add(Dropout(0.5))\r\n",
        "my_model.add(Dense(1,activation='sigmoid'))"
      ],
      "execution_count": 61,
      "outputs": []
    },
    {
      "cell_type": "code",
      "metadata": {
        "colab": {
          "base_uri": "https://localhost:8080/"
        },
        "id": "3YBhPow4QLH0",
        "outputId": "d81a19b6-52e9-4d56-88e7-85ba38ba87be"
      },
      "source": [
        "my_model.summary()\r\n",
        "my_model.compile(loss='binary_crossentropy',optimizer='rmsprop',metrics=['Accuracy'])"
      ],
      "execution_count": 62,
      "outputs": [
        {
          "output_type": "stream",
          "text": [
            "Model: \"sequential_2\"\n",
            "_________________________________________________________________\n",
            "Layer (type)                 Output Shape              Param #   \n",
            "=================================================================\n",
            "embedding_8 (Embedding)      (None, 150, 50)           50000     \n",
            "_________________________________________________________________\n",
            "lstm_8 (LSTM)                (None, 64)                29440     \n",
            "_________________________________________________________________\n",
            "dense_2 (Dense)              (None, 256)               16640     \n",
            "_________________________________________________________________\n",
            "dropout_8 (Dropout)          (None, 256)               0         \n",
            "_________________________________________________________________\n",
            "dense_3 (Dense)              (None, 1)                 257       \n",
            "=================================================================\n",
            "Total params: 96,337\n",
            "Trainable params: 96,337\n",
            "Non-trainable params: 0\n",
            "_________________________________________________________________\n"
          ],
          "name": "stdout"
        }
      ]
    },
    {
      "cell_type": "code",
      "metadata": {
        "colab": {
          "base_uri": "https://localhost:8080/"
        },
        "id": "cDb4aeHKQlrR",
        "outputId": "1ff87669-4cd8-4fd1-a52b-91549242ad45"
      },
      "source": [
        "from keras.callbacks import EarlyStopping\r\n",
        "model_hist=my_model.fit(sequence_matrix,train_y,batch_size=120,epochs=6,validation_split=0.2,callbacks=[EarlyStopping(patience=5)])"
      ],
      "execution_count": 71,
      "outputs": [
        {
          "output_type": "stream",
          "text": [
            "Epoch 1/6\n",
            "30/30 [==============================] - 5s 182ms/step - loss: 0.0082 - accuracy: 0.0690 - val_loss: 0.0845 - val_accuracy: 0.0740\n",
            "Epoch 2/6\n",
            "30/30 [==============================] - 5s 182ms/step - loss: 0.0059 - accuracy: 0.0757 - val_loss: 0.0989 - val_accuracy: 0.0684\n",
            "Epoch 3/6\n",
            "30/30 [==============================] - 5s 181ms/step - loss: 0.0050 - accuracy: 0.0777 - val_loss: 0.0956 - val_accuracy: 0.0874\n",
            "Epoch 4/6\n",
            "30/30 [==============================] - 5s 183ms/step - loss: 0.0062 - accuracy: 0.0948 - val_loss: 0.0997 - val_accuracy: 0.0953\n",
            "Epoch 5/6\n",
            "30/30 [==============================] - 5s 182ms/step - loss: 0.0027 - accuracy: 0.1032 - val_loss: 0.1304 - val_accuracy: 0.0998\n",
            "Epoch 6/6\n",
            "30/30 [==============================] - 5s 181ms/step - loss: 0.0025 - accuracy: 0.0985 - val_loss: 0.1161 - val_accuracy: 0.1009\n"
          ],
          "name": "stdout"
        }
      ]
    },
    {
      "cell_type": "code",
      "metadata": {
        "id": "9EK85wtkReBj"
      },
      "source": [
        "test_sequence=tok.texts_to_sequences(test_x)\r\n",
        "test_sequence_matrix=sequence.pad_sequences(test_sequence,maxlen=max_len)"
      ],
      "execution_count": 72,
      "outputs": []
    },
    {
      "cell_type": "code",
      "metadata": {
        "colab": {
          "base_uri": "https://localhost:8080/",
          "height": 269
        },
        "id": "6SIXMdGNSnvJ",
        "outputId": "be0874d8-25f7-4b1c-8be3-f757423d9a97"
      },
      "source": [
        "pd.DataFrame(model_hist.history).plot(figsize=(8,4))\r\n",
        "plt.gca().set_ylim(0,0.4)\r\n",
        "plt.show()"
      ],
      "execution_count": 73,
      "outputs": [
        {
          "output_type": "display_data",
          "data": {
            "image/png": "[encoded data removed]",
            "text/plain": [
              "<Figure size 576x288 with 1 Axes>"
            ]
          },
          "metadata": {
            "tags": [],
            "needs_background": "light"
          }
        }
      ]
    },
    {
      "cell_type": "code",
      "metadata": {
        "colab": {
          "base_uri": "https://localhost:8080/"
        },
        "id": "zZbjqHIHSXS9",
        "outputId": "473d8b0e-813d-412c-bc27-9dbcdc19fa84"
      },
      "source": [
        "accr=my_model.evaluate(test_sequence_matrix,test_y)\r\n"
      ],
      "execution_count": 74,
      "outputs": [
        {
          "output_type": "stream",
          "text": [
            "35/35 [==============================] - 1s 22ms/step - loss: 0.0725 - accuracy: 0.0987\n"
          ],
          "name": "stdout"
        }
      ]
    },
    {
      "cell_type": "code",
      "metadata": {
        "id": "f_0k_ApBTyrf"
      },
      "source": [
        "text_data=['hi dear how are you']\r\n",
        "text_spam=['Congrats you win cash prize']"
      ],
      "execution_count": 97,
      "outputs": []
    },
    {
      "cell_type": "code",
      "metadata": {
        "id": "pnSmQoPAMRrg"
      },
      "source": [
        "def text_to_matrix(data):\r\n",
        "  txts=tok.texts_to_sequences(text_data)\r\n",
        "  txts=sequence.pad_sequences(txts,maxlen=max_len)\r\n",
        "  return txts"
      ],
      "execution_count": 93,
      "outputs": []
    },
    {
      "cell_type": "code",
      "metadata": {
        "id": "HeENVp4eVOHe"
      },
      "source": [
        "def predict(data):\r\n",
        "  txts=tok.texts_to_sequences(data)\r\n",
        "  txts=sequence.pad_sequences(txts,maxlen=max_len)\r\n",
        "  predict=np.round(my_model.predict(txts))\r\n",
        "  dict={0:'Not_spam',1:'Spam'}\r\n",
        "  y=predict.flatten()\r\n",
        "  y_pred=print(dict[y[0]])\r\n",
        "  return y_pred"
      ],
      "execution_count": 98,
      "outputs": []
    },
    {
      "cell_type": "code",
      "metadata": {
        "colab": {
          "base_uri": "https://localhost:8080/"
        },
        "id": "3jxm61QRXbG_",
        "outputId": "addbe3df-b48a-437e-86d8-e1f3b8c72157"
      },
      "source": [
        "predict(text_data)"
      ],
      "execution_count": 99,
      "outputs": [
        {
          "output_type": "stream",
          "text": [
            "Not_spam\n"
          ],
          "name": "stdout"
        }
      ]
    },
    {
      "cell_type": "code",
      "metadata": {
        "colab": {
          "base_uri": "https://localhost:8080/"
        },
        "id": "mf08HVerYNtG",
        "outputId": "376c4149-61a6-44f3-e529-74011642822d"
      },
      "source": [
        "predict(text_spam)"
      ],
      "execution_count": 100,
      "outputs": [
        {
          "output_type": "stream",
          "text": [
            "Spam\n"
          ],
          "name": "stdout"
        }
      ]
    }
  ]
}